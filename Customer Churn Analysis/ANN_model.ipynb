{
  "nbformat": 4,
  "nbformat_minor": 0,
  "metadata": {
    "colab": {
      "provenance": [],
      "gpuType": "T4",
      "cell_execution_strategy": "setup"
    },
    "kernelspec": {
      "name": "python3",
      "display_name": "Python 3"
    },
    "language_info": {
      "name": "python"
    },
    "accelerator": "GPU"
  },
  "cells": [
    {
      "cell_type": "code",
      "execution_count": 90,
      "metadata": {
        "id": "r1auE8YqGUDr"
      },
      "outputs": [],
      "source": [
        "# !pip install tensorflow"
      ]
    },
    {
      "cell_type": "code",
      "source": [
        "import tensorflow as tf\n",
        "from  tensorflow import keras\n",
        "import pandas as pd\n",
        "import numpy as np\n",
        "from sklearn.metrics import classification_report\n",
        "from sklearn.preprocessing import MinMaxScaler\n",
        "from tensorflow.keras.models import load_model\n",
        "from tensorflow.keras import backend as K\n",
        "from sklearn.model_selection import train_test_split\n",
        "tf.test.gpu_device_name()"
      ],
      "metadata": {
        "id": "DT-mzet5GWLA",
        "colab": {
          "base_uri": "https://localhost:8080/",
          "height": 38
        },
        "outputId": "071b45f2-f5ef-4518-ddaa-baaa46105cde"
      },
      "execution_count": 91,
      "outputs": [
        {
          "output_type": "execute_result",
          "data": {
            "text/plain": [
              "'/device:GPU:0'"
            ],
            "application/vnd.google.colaboratory.intrinsic+json": {
              "type": "string"
            }
          },
          "metadata": {},
          "execution_count": 91
        }
      ]
    },
    {
      "cell_type": "code",
      "source": [
        "df = pd.read_csv('/content/cleaned_data.csv')"
      ],
      "metadata": {
        "id": "D9lfZ_h0G02p"
      },
      "execution_count": 92,
      "outputs": []
    },
    {
      "cell_type": "code",
      "source": [
        "y = df['Credit_Status']\n",
        "X = df.drop('Credit_Status',axis = 1)"
      ],
      "metadata": {
        "id": "X8eV3Wf4IOeP"
      },
      "execution_count": 93,
      "outputs": []
    },
    {
      "cell_type": "code",
      "source": [
        "X_train ,X_test,y_train,y_test = train_test_split(X,y ,random_state = 42 , stratify= y ,test_size = 0.2 )"
      ],
      "metadata": {
        "id": "t68xjxGZInGc"
      },
      "execution_count": 94,
      "outputs": []
    },
    {
      "cell_type": "code",
      "source": [
        "cols = list(X_train.columns)"
      ],
      "metadata": {
        "id": "bvRUxMkbvFOC"
      },
      "execution_count": 95,
      "outputs": []
    },
    {
      "cell_type": "code",
      "source": [
        "\n",
        "\n",
        "# Define a custom function to calculate F1 score\n",
        "def f1_score(y_true, y_pred):\n",
        "    true_positives = K.sum(K.round(K.clip(y_true * y_pred, 0, 1)))\n",
        "    possible_positives = K.sum(K.round(K.clip(y_true, 0, 1)))\n",
        "    predicted_positives = K.sum(K.round(K.clip(y_pred, 0, 1)))\n",
        "    precision = true_positives / (predicted_positives + K.epsilon())\n",
        "    recall = true_positives / (possible_positives + K.epsilon())\n",
        "    f1 = 2 * (precision * recall) / (precision + recall + K.epsilon())\n",
        "    return f1"
      ],
      "metadata": {
        "id": "LWxZjeeIoiFV"
      },
      "execution_count": 96,
      "outputs": []
    },
    {
      "cell_type": "code",
      "source": [
        "def ANN_binary(X_train, y_train, X_test, y_test, loss, weights):\n",
        "    model = keras.Sequential([\n",
        "        keras.layers.Dense(48, input_dim= 10 , activation='relu'),\n",
        "        keras.layers.Dense(24, activation='relu'),\n",
        "        keras.layers.Dense(1, activation='sigmoid')\n",
        "    ])\n",
        "\n",
        "    model.compile(optimizer='adam', loss=loss, metrics= f1_score)\n",
        "\n",
        "    if weights == -1:\n",
        "        model.fit(X_train, y_train, epochs=50)\n",
        "    else:\n",
        "        model.fit(X_train, y_train, epochs=50, class_weight = weights)\n",
        "\n",
        "    print(model.evaluate(X_test, y_test))\n",
        "\n",
        "    y_preds = model.predict(X_test)\n",
        "    y_preds = np.round(y_preds)\n",
        "\n",
        "    print(\"Classification Report: \\n\", classification_report(y_test, y_preds))\n",
        "    model.save('/content/my_model.h5')\n",
        "    return y_preds"
      ],
      "metadata": {
        "id": "pviPEleoGYK9"
      },
      "execution_count": 97,
      "outputs": []
    },
    {
      "cell_type": "code",
      "source": [
        "ANN_binary(X_train, y_train, X_test, y_test, 'binary_crossentropy', weights = -1)"
      ],
      "metadata": {
        "id": "q8c_bLyFGyPU",
        "colab": {
          "base_uri": "https://localhost:8080/"
        },
        "outputId": "01468624-175a-4680-d9fa-54b3f118567f"
      },
      "execution_count": 98,
      "outputs": [
        {
          "output_type": "stream",
          "name": "stdout",
          "text": [
            "Epoch 1/50\n",
            "815/815 [==============================] - 5s 4ms/step - loss: 0.3379 - f1_score: 0.6121\n",
            "Epoch 2/50\n",
            "815/815 [==============================] - 4s 5ms/step - loss: 0.2939 - f1_score: 0.7012\n",
            "Epoch 3/50\n",
            "815/815 [==============================] - 3s 4ms/step - loss: 0.2846 - f1_score: 0.7093\n",
            "Epoch 4/50\n",
            "815/815 [==============================] - 3s 4ms/step - loss: 0.2790 - f1_score: 0.7227\n",
            "Epoch 5/50\n",
            "815/815 [==============================] - 3s 4ms/step - loss: 0.2736 - f1_score: 0.7288\n",
            "Epoch 6/50\n",
            "815/815 [==============================] - 4s 5ms/step - loss: 0.2685 - f1_score: 0.7407\n",
            "Epoch 7/50\n",
            "815/815 [==============================] - 3s 4ms/step - loss: 0.2660 - f1_score: 0.7425\n",
            "Epoch 8/50\n",
            "815/815 [==============================] - 3s 4ms/step - loss: 0.2616 - f1_score: 0.7447\n",
            "Epoch 9/50\n",
            "815/815 [==============================] - 3s 4ms/step - loss: 0.2597 - f1_score: 0.7494\n",
            "Epoch 10/50\n",
            "815/815 [==============================] - 4s 4ms/step - loss: 0.2563 - f1_score: 0.7573\n",
            "Epoch 11/50\n",
            "815/815 [==============================] - 3s 4ms/step - loss: 0.2549 - f1_score: 0.7564\n",
            "Epoch 12/50\n",
            "815/815 [==============================] - 3s 4ms/step - loss: 0.2526 - f1_score: 0.7544\n",
            "Epoch 13/50\n",
            "815/815 [==============================] - 3s 4ms/step - loss: 0.2510 - f1_score: 0.7571\n",
            "Epoch 14/50\n",
            "815/815 [==============================] - 3s 4ms/step - loss: 0.2501 - f1_score: 0.7594\n",
            "Epoch 15/50\n",
            "815/815 [==============================] - 3s 4ms/step - loss: 0.2480 - f1_score: 0.7575\n",
            "Epoch 16/50\n",
            "815/815 [==============================] - 3s 4ms/step - loss: 0.2465 - f1_score: 0.7586\n",
            "Epoch 17/50\n",
            "815/815 [==============================] - 3s 4ms/step - loss: 0.2451 - f1_score: 0.7634\n",
            "Epoch 18/50\n",
            "815/815 [==============================] - 3s 4ms/step - loss: 0.2442 - f1_score: 0.7625\n",
            "Epoch 19/50\n",
            "815/815 [==============================] - 3s 4ms/step - loss: 0.2430 - f1_score: 0.7646\n",
            "Epoch 20/50\n",
            "815/815 [==============================] - 3s 4ms/step - loss: 0.2413 - f1_score: 0.7667\n",
            "Epoch 21/50\n",
            "815/815 [==============================] - 3s 4ms/step - loss: 0.2399 - f1_score: 0.7656\n",
            "Epoch 22/50\n",
            "815/815 [==============================] - 3s 4ms/step - loss: 0.2392 - f1_score: 0.7707\n",
            "Epoch 23/50\n",
            "815/815 [==============================] - 3s 4ms/step - loss: 0.2389 - f1_score: 0.7689\n",
            "Epoch 24/50\n",
            "815/815 [==============================] - 3s 4ms/step - loss: 0.2372 - f1_score: 0.7664\n",
            "Epoch 25/50\n",
            "815/815 [==============================] - 4s 5ms/step - loss: 0.2364 - f1_score: 0.7728\n",
            "Epoch 26/50\n",
            "815/815 [==============================] - 3s 4ms/step - loss: 0.2345 - f1_score: 0.7685\n",
            "Epoch 27/50\n",
            "815/815 [==============================] - 3s 4ms/step - loss: 0.2346 - f1_score: 0.7679\n",
            "Epoch 28/50\n",
            "815/815 [==============================] - 3s 4ms/step - loss: 0.2342 - f1_score: 0.7644\n",
            "Epoch 29/50\n",
            "815/815 [==============================] - 4s 5ms/step - loss: 0.2333 - f1_score: 0.7730\n",
            "Epoch 30/50\n",
            "815/815 [==============================] - 3s 4ms/step - loss: 0.2315 - f1_score: 0.7761\n",
            "Epoch 31/50\n",
            "815/815 [==============================] - 3s 4ms/step - loss: 0.2314 - f1_score: 0.7742\n",
            "Epoch 32/50\n",
            "815/815 [==============================] - 3s 4ms/step - loss: 0.2303 - f1_score: 0.7791\n",
            "Epoch 33/50\n",
            "815/815 [==============================] - 4s 5ms/step - loss: 0.2301 - f1_score: 0.7773\n",
            "Epoch 34/50\n",
            "815/815 [==============================] - 3s 4ms/step - loss: 0.2287 - f1_score: 0.7772\n",
            "Epoch 35/50\n",
            "815/815 [==============================] - 3s 4ms/step - loss: 0.2286 - f1_score: 0.7758\n",
            "Epoch 36/50\n",
            "815/815 [==============================] - 3s 4ms/step - loss: 0.2277 - f1_score: 0.7769\n",
            "Epoch 37/50\n",
            "815/815 [==============================] - 4s 5ms/step - loss: 0.2272 - f1_score: 0.7815\n",
            "Epoch 38/50\n",
            "815/815 [==============================] - 3s 4ms/step - loss: 0.2268 - f1_score: 0.7766\n",
            "Epoch 39/50\n",
            "815/815 [==============================] - 3s 4ms/step - loss: 0.2262 - f1_score: 0.7773\n",
            "Epoch 40/50\n",
            "815/815 [==============================] - 3s 4ms/step - loss: 0.2248 - f1_score: 0.7837\n",
            "Epoch 41/50\n",
            "815/815 [==============================] - 4s 5ms/step - loss: 0.2250 - f1_score: 0.7784\n",
            "Epoch 42/50\n",
            "815/815 [==============================] - 3s 4ms/step - loss: 0.2247 - f1_score: 0.7799\n",
            "Epoch 43/50\n",
            "815/815 [==============================] - 3s 4ms/step - loss: 0.2231 - f1_score: 0.7797\n",
            "Epoch 44/50\n",
            "815/815 [==============================] - 3s 4ms/step - loss: 0.2233 - f1_score: 0.7797\n",
            "Epoch 45/50\n",
            "815/815 [==============================] - 4s 4ms/step - loss: 0.2228 - f1_score: 0.7818\n",
            "Epoch 46/50\n",
            "815/815 [==============================] - 3s 4ms/step - loss: 0.2209 - f1_score: 0.7815\n",
            "Epoch 47/50\n",
            "815/815 [==============================] - 3s 4ms/step - loss: 0.2214 - f1_score: 0.7860\n",
            "Epoch 48/50\n",
            "815/815 [==============================] - 3s 4ms/step - loss: 0.2203 - f1_score: 0.7856\n",
            "Epoch 49/50\n",
            "815/815 [==============================] - 3s 4ms/step - loss: 0.2198 - f1_score: 0.7863\n",
            "Epoch 50/50\n",
            "815/815 [==============================] - 3s 4ms/step - loss: 0.2202 - f1_score: 0.7831\n",
            "204/204 [==============================] - 1s 3ms/step - loss: 0.2518 - f1_score: 0.7539\n",
            "[0.25176557898521423, 0.7538790106773376]\n",
            "204/204 [==============================] - 0s 2ms/step\n",
            "Classification Report: \n",
            "               precision    recall  f1-score   support\n",
            "\n",
            "         0.0       0.92      0.98      0.95      5095\n",
            "         1.0       0.91      0.68      0.78      1422\n",
            "\n",
            "    accuracy                           0.91      6517\n",
            "   macro avg       0.91      0.83      0.86      6517\n",
            "weighted avg       0.91      0.91      0.91      6517\n",
            "\n"
          ]
        },
        {
          "output_type": "execute_result",
          "data": {
            "text/plain": [
              "array([[0.],\n",
              "       [1.],\n",
              "       [0.],\n",
              "       ...,\n",
              "       [0.],\n",
              "       [0.],\n",
              "       [0.]], dtype=float32)"
            ]
          },
          "metadata": {},
          "execution_count": 98
        }
      ]
    },
    {
      "cell_type": "code",
      "source": [
        "# Load the model from the 'model.h5' file, specifying the custom metric function\n",
        "model = tf.keras.models.load_model('/content/my_model.h5', custom_objects={'f1_score': f1_score})"
      ],
      "metadata": {
        "id": "K3j-4bXjoNr5"
      },
      "execution_count": 99,
      "outputs": []
    },
    {
      "cell_type": "code",
      "source": [
        "y_train_pred = model.predict(X_train)"
      ],
      "metadata": {
        "id": "hpqj5nTnrBYC",
        "colab": {
          "base_uri": "https://localhost:8080/"
        },
        "outputId": "59758205-1e5c-472c-86ec-baf43720ff17"
      },
      "execution_count": 100,
      "outputs": [
        {
          "output_type": "stream",
          "name": "stdout",
          "text": [
            "815/815 [==============================] - 1s 2ms/step\n"
          ]
        }
      ]
    },
    {
      "cell_type": "code",
      "source": [
        "df1 = pd.DataFrame()"
      ],
      "metadata": {
        "id": "PEszC1tUrPB9"
      },
      "execution_count": 101,
      "outputs": []
    },
    {
      "cell_type": "code",
      "source": [
        "df1['y_prob'] = [i[0] for i in  y_train_pred]\n",
        "df1['real'] = list(y_train)"
      ],
      "metadata": {
        "id": "vRRboDFDt-xY"
      },
      "execution_count": 102,
      "outputs": []
    },
    {
      "cell_type": "code",
      "source": [
        "from sklearn.metrics import f1_score\n",
        "dict_of_f1 = {}\n",
        "for i in range(1,10):\n",
        "  df1['train_pred'] = np.where( df1['y_prob'] > i/10 ,1,0)\n",
        "  dict_of_f1[f1_score(df1['real'],df1['train_pred'])] = i/10"
      ],
      "metadata": {
        "id": "_1zbXalpuR9S"
      },
      "execution_count": 103,
      "outputs": []
    },
    {
      "cell_type": "code",
      "source": [
        "dict_of_f1"
      ],
      "metadata": {
        "id": "ZTUI8yuZK5jO",
        "colab": {
          "base_uri": "https://localhost:8080/"
        },
        "outputId": "c4f9f08a-bd8c-4d23-d23c-1e5e3b095412"
      },
      "execution_count": 104,
      "outputs": [
        {
          "output_type": "execute_result",
          "data": {
            "text/plain": [
              "{0.6017607457276023: 0.1,\n",
              " 0.7319798552093171: 0.2,\n",
              " 0.782354552927208: 0.3,\n",
              " 0.7989077433196801: 0.4,\n",
              " 0.8027772187562889: 0.5,\n",
              " 0.798887859128823: 0.6,\n",
              " 0.7872474747474747: 0.7,\n",
              " 0.7669075612123827: 0.8,\n",
              " 0.7254616675993285: 0.9}"
            ]
          },
          "metadata": {},
          "execution_count": 104
        }
      ]
    },
    {
      "cell_type": "code",
      "source": [
        "#\n",
        "import matplotlib.pyplot as plt\n",
        "# Create a line plot\n",
        "plt.plot(dict_of_f1.values(),dict_of_f1.keys())\n",
        "plt.plot()\n",
        "# Add labels and title\n",
        "plt.xlabel('F1_score')\n",
        "plt.ylabel('Treshold')\n",
        "plt.title('Line Plot')"
      ],
      "metadata": {
        "id": "ntrslwXLuGKa",
        "colab": {
          "base_uri": "https://localhost:8080/",
          "height": 489
        },
        "outputId": "8251d006-18d1-4b31-ae0d-a0299e63a7b7"
      },
      "execution_count": 105,
      "outputs": [
        {
          "output_type": "execute_result",
          "data": {
            "text/plain": [
              "Text(0.5, 1.0, 'Line Plot')"
            ]
          },
          "metadata": {},
          "execution_count": 105
        },
        {
          "output_type": "display_data",
          "data": {
            "text/plain": [
              "<Figure size 640x480 with 1 Axes>"
            ],
            "image/png": "[encoded data removed]"
          },
          "metadata": {}
        }
      ]
    },
    {
      "cell_type": "code",
      "source": [
        "print(f\"Train_f_score: {f1_score(y_train, y_pred_train)}\\nTest_f_score : {f1_score(y_test, y_pred_test)}\")"
      ],
      "metadata": {
        "id": "Lyt3ldbLLede",
        "colab": {
          "base_uri": "https://localhost:8080/"
        },
        "outputId": "89a836e8-d154-4112-ba81-e3a8b1848602"
      },
      "execution_count": 115,
      "outputs": [
        {
          "output_type": "stream",
          "name": "stdout",
          "text": [
            "Train_f_score: 0.8027772187562889\n",
            "Test_f_score : 0.7753126260588948\n"
          ]
        }
      ]
    },
    {
      "cell_type": "code",
      "source": [
        "model.save_weights('model_weights.h5') # save model"
      ],
      "metadata": {
        "id": "3TiYykif0ep9"
      },
      "execution_count": 109,
      "outputs": []
    },
    {
      "cell_type": "code",
      "source": [
        "# create new model structure same params and compile it same optimization and loss function\n",
        "model_main = keras.Sequential([\n",
        "        keras.layers.Dense(48, input_dim= 10 , activation='relu'),\n",
        "        keras.layers.Dense(24, activation='relu'),\n",
        "        keras.layers.Dense(1, activation='sigmoid')\n",
        "    ])\n",
        "model_main.compile(optimizer='adam',loss =  'binary_crossentropy' )"
      ],
      "metadata": {
        "id": "SN67zWgn0kxi"
      },
      "execution_count": 110,
      "outputs": []
    },
    {
      "cell_type": "code",
      "source": [
        "model_main.load_weights('my_model.h5') #use old model weights\n",
        "model_main.save_weights('model_weights.h5') # integrate it to new one\n",
        "model_main.save('/content/model_weights.h5') #save new model to 'model_weights.h5'"
      ],
      "metadata": {
        "id": "EnWwHn0Z1lYW"
      },
      "execution_count": 111,
      "outputs": []
    },
    {
      "cell_type": "code",
      "source": [
        "# the main reason to do that , i used F1_score as a funtion"
      ],
      "metadata": {
        "id": "ZM_TzhI87pyY"
      },
      "execution_count": 112,
      "outputs": []
    },
    {
      "cell_type": "code",
      "source": [],
      "metadata": {
        "id": "UO3eyLQ7DwXe"
      },
      "execution_count": 112,
      "outputs": []
    }
  ]
}